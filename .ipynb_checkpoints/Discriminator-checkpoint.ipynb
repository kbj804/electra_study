{
 "cells": [
  {
   "cell_type": "code",
   "execution_count": null,
   "id": "4536b336",
   "metadata": {},
   "outputs": [],
   "source": [
    "# Discriminator\n",
    "    disc_output = None\n",
    "    if config.electra_objective or config.electric_objective:\n",
    "      discriminator = build_transformer(\n",
    "          config, fake_data.inputs, is_training, self._bert_config,\n",
    "          reuse=not config.untied_generator, embedding_size=embedding_size)\n",
    "      disc_output = self._get_discriminator_output(\n",
    "          fake_data.inputs, discriminator, fake_data.is_fake_tokens,\n",
    "          cloze_output)\n",
    "      self.total_loss += config.disc_weight * disc_output.loss"
   ]
  }
 ],
 "metadata": {
  "kernelspec": {
   "display_name": "Python 3 (ipykernel)",
   "language": "python",
   "name": "python3"
  },
  "language_info": {
   "codemirror_mode": {
    "name": "ipython",
    "version": 3
   },
   "file_extension": ".py",
   "mimetype": "text/x-python",
   "name": "python",
   "nbconvert_exporter": "python",
   "pygments_lexer": "ipython3",
   "version": "3.8.10"
  }
 },
 "nbformat": 4,
 "nbformat_minor": 5
}
